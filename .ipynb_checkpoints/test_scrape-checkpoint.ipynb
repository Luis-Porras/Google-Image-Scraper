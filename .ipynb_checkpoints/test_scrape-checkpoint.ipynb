{
 "cells": [
  {
   "cell_type": "code",
   "execution_count": 1,
   "metadata": {},
   "outputs": [],
   "source": [
    "from selenium.webdriver.common.action_chains import ActionChains\n",
    "from selenium.webdriver.common.keys import Keys\n",
    "from selenium import webdriver\n",
    "from selenium.webdriver.support.ui import WebDriverWait\n",
    "from math import ceil\n",
    "import os\n",
    "import base64\n",
    "import time \n",
    "import getpass\n",
    "import platform\n",
    "import sys\n",
    "import urllib.request \n",
    "import contextlib"
   ]
  },
  {
   "cell_type": "code",
   "execution_count": 2,
   "metadata": {},
   "outputs": [],
   "source": [
    "def search(driver,term):\n",
    "    \n",
    "    #Specify search term and sends a google query for the term\n",
    "    driver.get('https://google.com')\n",
    "    WebDriverWait(driver,1)\n",
    "    search_box = driver.find_element_by_class_name('gLFyf')\n",
    "    search_box.send_keys(term)\n",
    "    search_box.send_keys(Keys.ENTER)\n",
    "\n",
    "    #Finds the google \"Images\" box for the search term and clicks on it\n",
    "    google_image_box = driver.find_element_by_link_text('Images')\n",
    "    google_image_box.click()"
   ]
  },
  {
   "cell_type": "code",
   "execution_count": 3,
   "metadata": {},
   "outputs": [],
   "source": [
    "def create_folder():  \n",
    "    \n",
    "    #Attempts to create new folder in Downloads. \n",
    "    #If it already exists, user is asked if they would like to save their images to existing folder \n",
    "    #or make new folder\n",
    "    \n",
    "    folder_name =  input('What would you like to name your new folder of images? You\\'ll find this folder in your Downloads: ')\n",
    "    valid_folder_name = False\n",
    "    homedir = os.path.expanduser('~')\n",
    "    \n",
    "    while not valid_folder_name:\n",
    "        try:\n",
    "            if platform.system() == 'Darwin':\n",
    "                os.mkdir(f'{homedir}/Downloads/{folder_name}')\n",
    "            elif platform.system() == 'Windows':\n",
    "                os.mkdir(f'{homedir}\\Downloads\\\\{folder_name}')\n",
    "                \n",
    "            valid_folder_name = True\n",
    "            \n",
    "        except FileExistsError: \n",
    "            \n",
    "            folder_response = int(input(f'''The folder named \\'{folder_name}\\' already exists. Would you like to add your pictures to the existing folder, or save them to a new folder name? \\n Press 1 to save them to the existing folder. \n",
    "            \\n Press 2 to save them to a new folder \\n Response:  '''))\n",
    "            \n",
    "            if folder_response == 1:\n",
    "                print(f'New images will be downloaded to the existing \\'{folder_name}\\' folder')\n",
    "                return folder_name\n",
    "                \n",
    "            elif folder_response == 2:\n",
    "                folder_name =  input('''What would you like to name your new folder of images? \\n You\\'ll find this folder in your Downloads: ''')\n",
    "            \n",
    "            else:\n",
    "                print('Please type 1 or 2 as your response....')\n",
    "                time.sleep(1)\n",
    "            \n",
    "    return folder_name"
   ]
  },
  {
   "cell_type": "code",
   "execution_count": 9,
   "metadata": {},
   "outputs": [],
   "source": [
    "def load_images(driver, images_to_retrieve = 100):\n",
    "    \n",
    "    #function using javascript to scroll to the bottom of a page.\n",
    "    def scroll(driver):\n",
    "            driver.execute_script(\"window.scrollTo(0, document.body.scrollHeight);\")\n",
    "            time.sleep(2)\n",
    "            \n",
    "    #calculates necessary page scrolls to load the amount of images the user has asked for.\n",
    "    scroll_amount = ceil((images_to_retrieve/90))\n",
    "    \n",
    "    #begins scrolling, but also checks if the \"show more results\" button needs to be pressed to keep scrolling.\n",
    "    for i in range(scroll_amount):\n",
    "        try:\n",
    "            \n",
    "            driver.find_element_by_css_selector('input.mye4qd').click()\n",
    "            time.sleep(2)\n",
    "            scroll(driver)\n",
    "            time.sleep(2)    \n",
    "            \n",
    "        except:\n",
    "            \n",
    "            scroll(driver)\n",
    "            time.sleep(2)\n",
    "            \n",
    "        \n",
    "#Clicks on an image thumbnail and gets the uri of the newly expanded image. \n",
    "#The images returned from this function are base64 encoded images.\n",
    "def get_images(driver, images_to_retrieve):\n",
    "    \n",
    "    elements = driver.find_elements_by_class_name('rg_i')\n",
    "    images = []\n",
    "\n",
    "    for i in elements[:images_to_retrieve+1]:\n",
    "        \n",
    "        try:\n",
    "            i.click()\n",
    "            time.sleep(2)\n",
    "            real_image = driver.find_element_by_class_name('n3VNCb')\n",
    "            images.append(real_image.get_attribute('src'))\n",
    "            time.sleep(1)\n",
    "        except:\n",
    "            continue\n",
    "        \n",
    "        sys.stdout.write('\\r'+'Downloaded: '+str(elements.index(i))+'/'+str(images_to_retrieve))\n",
    "        sys.stdout.flush()\n",
    "    \n",
    "    print('')\n",
    "    print(len(images))\n",
    "    return images\n",
    "    \n",
    "    \n",
    "#Images must be decoded, and then can be saved as an image to a desired path               \n",
    "def decode_and_save(images, folder_name, search_term):\n",
    "    \n",
    "    homedir = os.path.expanduser('~')\n",
    "    \n",
    "    if platform.system() == 'Darwin':\n",
    "        download_path = homedir+'/Downloads/'+folder_name+'/'+search_term\n",
    "    elif platform.system() == 'Windows':\n",
    "        download_path = homedir+'\\Downloads\\\\'+folder_name+'\\\\'+search_term\n",
    "    \n",
    "    #Retrieves the base64 encoded picture and it's corresponding file extension(.png, .jpg, .gif, .tif, etc.)\n",
    "    for i in images: \n",
    "        \n",
    "        if \"data:image\" in i:\n",
    "            head = i.split(',')[0]\n",
    "            data = i.split(',')[1]\n",
    "            file_type = head.split('/')[1].split(';')[0]\n",
    "            decoded = base64.b64decode(data)\n",
    "             #writes each newly decoded picture to a sub-directory in the Downloads directory\n",
    "            with open(f'{download_path}{images.index(i)}.{file_type}', 'wb') as f:\n",
    "                f.write(decoded)\n",
    "                \n",
    "                \n",
    "        elif \"http\" in i:\n",
    "            urllib.request.urlretrieve(i,download_path+str(images.index(i)))\n",
    "                \n",
    "        else:\n",
    "            print('Unsuccessful Download of: '+i)\n"
   ]
  },
  {
   "cell_type": "code",
   "execution_count": 10,
   "metadata": {},
   "outputs": [],
   "source": [
    "def scrape(driver_path):\n",
    "    search_term = input('What images would you like to search on Google? ')\n",
    "    image_amount= int(input('How many pictures would you like to download? '))\n",
    "    folder_name =  create_folder()\n",
    "    wd = webdriver.Chrome(driver_path)\n",
    "    \n",
    "    search(wd,search_term)\n",
    "    load_images(wd, image_amount)\n",
    "    images = get_images(wd,image_amount)\n",
    "    decode_and_save(images, folder_name, search_term)\n",
    "    wd.quit()"
   ]
  },
  {
   "cell_type": "code",
   "execution_count": 11,
   "metadata": {},
   "outputs": [
    {
     "ename": "KeyboardInterrupt",
     "evalue": "",
     "output_type": "error",
     "traceback": [
      "\u001b[0;31m---------------------------------------------------------------------------\u001b[0m",
      "\u001b[0;31mKeyboardInterrupt\u001b[0m                         Traceback (most recent call last)",
      "\u001b[0;32m/Library/Frameworks/Python.framework/Versions/3.7/lib/python3.7/site-packages/ipykernel/kernelbase.py\u001b[0m in \u001b[0;36m_input_request\u001b[0;34m(self, prompt, ident, parent, password)\u001b[0m\n\u001b[1;32m    883\u001b[0m             \u001b[0;32mtry\u001b[0m\u001b[0;34m:\u001b[0m\u001b[0;34m\u001b[0m\u001b[0;34m\u001b[0m\u001b[0m\n\u001b[0;32m--> 884\u001b[0;31m                 \u001b[0mident\u001b[0m\u001b[0;34m,\u001b[0m \u001b[0mreply\u001b[0m \u001b[0;34m=\u001b[0m \u001b[0mself\u001b[0m\u001b[0;34m.\u001b[0m\u001b[0msession\u001b[0m\u001b[0;34m.\u001b[0m\u001b[0mrecv\u001b[0m\u001b[0;34m(\u001b[0m\u001b[0mself\u001b[0m\u001b[0;34m.\u001b[0m\u001b[0mstdin_socket\u001b[0m\u001b[0;34m,\u001b[0m \u001b[0;36m0\u001b[0m\u001b[0;34m)\u001b[0m\u001b[0;34m\u001b[0m\u001b[0;34m\u001b[0m\u001b[0m\n\u001b[0m\u001b[1;32m    885\u001b[0m             \u001b[0;32mexcept\u001b[0m \u001b[0mException\u001b[0m\u001b[0;34m:\u001b[0m\u001b[0;34m\u001b[0m\u001b[0;34m\u001b[0m\u001b[0m\n",
      "\u001b[0;32m/Library/Frameworks/Python.framework/Versions/3.7/lib/python3.7/site-packages/jupyter_client/session.py\u001b[0m in \u001b[0;36mrecv\u001b[0;34m(self, socket, mode, content, copy)\u001b[0m\n\u001b[1;32m    802\u001b[0m         \u001b[0;32mtry\u001b[0m\u001b[0;34m:\u001b[0m\u001b[0;34m\u001b[0m\u001b[0;34m\u001b[0m\u001b[0m\n\u001b[0;32m--> 803\u001b[0;31m             \u001b[0mmsg_list\u001b[0m \u001b[0;34m=\u001b[0m \u001b[0msocket\u001b[0m\u001b[0;34m.\u001b[0m\u001b[0mrecv_multipart\u001b[0m\u001b[0;34m(\u001b[0m\u001b[0mmode\u001b[0m\u001b[0;34m,\u001b[0m \u001b[0mcopy\u001b[0m\u001b[0;34m=\u001b[0m\u001b[0mcopy\u001b[0m\u001b[0;34m)\u001b[0m\u001b[0;34m\u001b[0m\u001b[0;34m\u001b[0m\u001b[0m\n\u001b[0m\u001b[1;32m    804\u001b[0m         \u001b[0;32mexcept\u001b[0m \u001b[0mzmq\u001b[0m\u001b[0;34m.\u001b[0m\u001b[0mZMQError\u001b[0m \u001b[0;32mas\u001b[0m \u001b[0me\u001b[0m\u001b[0;34m:\u001b[0m\u001b[0;34m\u001b[0m\u001b[0;34m\u001b[0m\u001b[0m\n",
      "\u001b[0;32m/Library/Frameworks/Python.framework/Versions/3.7/lib/python3.7/site-packages/zmq/sugar/socket.py\u001b[0m in \u001b[0;36mrecv_multipart\u001b[0;34m(self, flags, copy, track)\u001b[0m\n\u001b[1;32m    469\u001b[0m         \"\"\"\n\u001b[0;32m--> 470\u001b[0;31m         \u001b[0mparts\u001b[0m \u001b[0;34m=\u001b[0m \u001b[0;34m[\u001b[0m\u001b[0mself\u001b[0m\u001b[0;34m.\u001b[0m\u001b[0mrecv\u001b[0m\u001b[0;34m(\u001b[0m\u001b[0mflags\u001b[0m\u001b[0;34m,\u001b[0m \u001b[0mcopy\u001b[0m\u001b[0;34m=\u001b[0m\u001b[0mcopy\u001b[0m\u001b[0;34m,\u001b[0m \u001b[0mtrack\u001b[0m\u001b[0;34m=\u001b[0m\u001b[0mtrack\u001b[0m\u001b[0;34m)\u001b[0m\u001b[0;34m]\u001b[0m\u001b[0;34m\u001b[0m\u001b[0;34m\u001b[0m\u001b[0m\n\u001b[0m\u001b[1;32m    471\u001b[0m         \u001b[0;31m# have first part already, only loop while more to receive\u001b[0m\u001b[0;34m\u001b[0m\u001b[0;34m\u001b[0m\u001b[0;34m\u001b[0m\u001b[0m\n",
      "\u001b[0;32mzmq/backend/cython/socket.pyx\u001b[0m in \u001b[0;36mzmq.backend.cython.socket.Socket.recv\u001b[0;34m()\u001b[0m\n",
      "\u001b[0;32mzmq/backend/cython/socket.pyx\u001b[0m in \u001b[0;36mzmq.backend.cython.socket.Socket.recv\u001b[0;34m()\u001b[0m\n",
      "\u001b[0;32mzmq/backend/cython/socket.pyx\u001b[0m in \u001b[0;36mzmq.backend.cython.socket._recv_copy\u001b[0;34m()\u001b[0m\n",
      "\u001b[0;32m/Library/Frameworks/Python.framework/Versions/3.7/lib/python3.7/site-packages/zmq/backend/cython/checkrc.pxd\u001b[0m in \u001b[0;36mzmq.backend.cython.checkrc._check_rc\u001b[0;34m()\u001b[0m\n",
      "\u001b[0;31mKeyboardInterrupt\u001b[0m: ",
      "\nDuring handling of the above exception, another exception occurred:\n",
      "\u001b[0;31mKeyboardInterrupt\u001b[0m                         Traceback (most recent call last)",
      "\u001b[0;32m<ipython-input-11-6f8a1912402a>\u001b[0m in \u001b[0;36m<module>\u001b[0;34m()\u001b[0m\n\u001b[1;32m      6\u001b[0m \u001b[0;34m\u001b[0m\u001b[0m\n\u001b[1;32m      7\u001b[0m \u001b[0;31m#call function\u001b[0m\u001b[0;34m\u001b[0m\u001b[0;34m\u001b[0m\u001b[0;34m\u001b[0m\u001b[0m\n\u001b[0;32m----> 8\u001b[0;31m \u001b[0mscrape\u001b[0m\u001b[0;34m(\u001b[0m\u001b[0mdriver_path\u001b[0m\u001b[0;34m)\u001b[0m\u001b[0;34m\u001b[0m\u001b[0;34m\u001b[0m\u001b[0m\n\u001b[0m",
      "\u001b[0;32m<ipython-input-10-9f3dae037ec2>\u001b[0m in \u001b[0;36mscrape\u001b[0;34m(driver_path)\u001b[0m\n\u001b[1;32m      1\u001b[0m \u001b[0;32mdef\u001b[0m \u001b[0mscrape\u001b[0m\u001b[0;34m(\u001b[0m\u001b[0mdriver_path\u001b[0m\u001b[0;34m)\u001b[0m\u001b[0;34m:\u001b[0m\u001b[0;34m\u001b[0m\u001b[0;34m\u001b[0m\u001b[0m\n\u001b[0;32m----> 2\u001b[0;31m     \u001b[0msearch_term\u001b[0m \u001b[0;34m=\u001b[0m \u001b[0minput\u001b[0m\u001b[0;34m(\u001b[0m\u001b[0;34m'What images would you like to search on Google? '\u001b[0m\u001b[0;34m)\u001b[0m\u001b[0;34m\u001b[0m\u001b[0;34m\u001b[0m\u001b[0m\n\u001b[0m\u001b[1;32m      3\u001b[0m     \u001b[0mimage_amount\u001b[0m\u001b[0;34m=\u001b[0m \u001b[0mint\u001b[0m\u001b[0;34m(\u001b[0m\u001b[0minput\u001b[0m\u001b[0;34m(\u001b[0m\u001b[0;34m'How many pictures would you like to download? '\u001b[0m\u001b[0;34m)\u001b[0m\u001b[0;34m)\u001b[0m\u001b[0;34m\u001b[0m\u001b[0;34m\u001b[0m\u001b[0m\n\u001b[1;32m      4\u001b[0m     \u001b[0mfolder_name\u001b[0m \u001b[0;34m=\u001b[0m  \u001b[0mcreate_folder\u001b[0m\u001b[0;34m(\u001b[0m\u001b[0;34m)\u001b[0m\u001b[0;34m\u001b[0m\u001b[0;34m\u001b[0m\u001b[0m\n\u001b[1;32m      5\u001b[0m     \u001b[0mwd\u001b[0m \u001b[0;34m=\u001b[0m \u001b[0mwebdriver\u001b[0m\u001b[0;34m.\u001b[0m\u001b[0mChrome\u001b[0m\u001b[0;34m(\u001b[0m\u001b[0mdriver_path\u001b[0m\u001b[0;34m)\u001b[0m\u001b[0;34m\u001b[0m\u001b[0;34m\u001b[0m\u001b[0m\n",
      "\u001b[0;32m/Library/Frameworks/Python.framework/Versions/3.7/lib/python3.7/site-packages/ipykernel/kernelbase.py\u001b[0m in \u001b[0;36mraw_input\u001b[0;34m(self, prompt)\u001b[0m\n\u001b[1;32m    857\u001b[0m             \u001b[0mself\u001b[0m\u001b[0;34m.\u001b[0m\u001b[0m_parent_ident\u001b[0m\u001b[0;34m,\u001b[0m\u001b[0;34m\u001b[0m\u001b[0;34m\u001b[0m\u001b[0m\n\u001b[1;32m    858\u001b[0m             \u001b[0mself\u001b[0m\u001b[0;34m.\u001b[0m\u001b[0m_parent_header\u001b[0m\u001b[0;34m,\u001b[0m\u001b[0;34m\u001b[0m\u001b[0;34m\u001b[0m\u001b[0m\n\u001b[0;32m--> 859\u001b[0;31m             \u001b[0mpassword\u001b[0m\u001b[0;34m=\u001b[0m\u001b[0;32mFalse\u001b[0m\u001b[0;34m,\u001b[0m\u001b[0;34m\u001b[0m\u001b[0;34m\u001b[0m\u001b[0m\n\u001b[0m\u001b[1;32m    860\u001b[0m         )\n\u001b[1;32m    861\u001b[0m \u001b[0;34m\u001b[0m\u001b[0m\n",
      "\u001b[0;32m/Library/Frameworks/Python.framework/Versions/3.7/lib/python3.7/site-packages/ipykernel/kernelbase.py\u001b[0m in \u001b[0;36m_input_request\u001b[0;34m(self, prompt, ident, parent, password)\u001b[0m\n\u001b[1;32m    887\u001b[0m             \u001b[0;32mexcept\u001b[0m \u001b[0mKeyboardInterrupt\u001b[0m\u001b[0;34m:\u001b[0m\u001b[0;34m\u001b[0m\u001b[0;34m\u001b[0m\u001b[0m\n\u001b[1;32m    888\u001b[0m                 \u001b[0;31m# re-raise KeyboardInterrupt, to truncate traceback\u001b[0m\u001b[0;34m\u001b[0m\u001b[0;34m\u001b[0m\u001b[0;34m\u001b[0m\u001b[0m\n\u001b[0;32m--> 889\u001b[0;31m                 \u001b[0;32mraise\u001b[0m \u001b[0mKeyboardInterrupt\u001b[0m\u001b[0;34m\u001b[0m\u001b[0;34m\u001b[0m\u001b[0m\n\u001b[0m\u001b[1;32m    890\u001b[0m             \u001b[0;32melse\u001b[0m\u001b[0;34m:\u001b[0m\u001b[0;34m\u001b[0m\u001b[0;34m\u001b[0m\u001b[0m\n\u001b[1;32m    891\u001b[0m                 \u001b[0;32mbreak\u001b[0m\u001b[0;34m\u001b[0m\u001b[0;34m\u001b[0m\u001b[0m\n",
      "\u001b[0;31mKeyboardInterrupt\u001b[0m: "
     ]
    }
   ],
   "source": [
    "#specify location of webdriver \n",
    "#mac: os.path.expanduser('~')/Downloads/chromedriver'\n",
    "#windows: os.path.expanduser('~')+'\\\\Downloads\\\\chromedriver.exe'\n",
    "\n",
    "driver_path = '/Users/Luis/Downloads/chromedriver'\n",
    "\n",
    "#call function\n",
    "scrape(driver_path)"
   ]
  },
  {
   "cell_type": "code",
   "execution_count": null,
   "metadata": {},
   "outputs": [],
   "source": [
    "urllib.request.urlretrieve()"
   ]
  },
  {
   "cell_type": "code",
   "execution_count": 8,
   "metadata": {},
   "outputs": [
    {
     "data": {
      "text/plain": [
       "('/Users/Luis/Downloads/dog_pics4/yorkie',\n",
       " <http.client.HTTPMessage at 0x10d6a86a0>)"
      ]
     },
     "execution_count": 8,
     "metadata": {},
     "output_type": "execute_result"
    }
   ],
   "source": [
    "urllib.request.urlretrieve('https://encrypted-tbn0.gstatic.com/images?q=tbn%3AANd9GcRKmI2RLlz7h02bVuE-S1YHvtzVRZZmAA_2tMlhlPQ3jRfQmCEA&usqp=CAU','/Users/Luis/Downloads/dog_pics4/yorkie')\n",
    "\n",
    "\n"
   ]
  },
  {
   "cell_type": "code",
   "execution_count": null,
   "metadata": {},
   "outputs": [],
   "source": []
  },
  {
   "cell_type": "code",
   "execution_count": null,
   "metadata": {},
   "outputs": [],
   "source": []
  },
  {
   "cell_type": "code",
   "execution_count": null,
   "metadata": {},
   "outputs": [],
   "source": []
  },
  {
   "cell_type": "code",
   "execution_count": null,
   "metadata": {},
   "outputs": [],
   "source": []
  }
 ],
 "metadata": {
  "kernelspec": {
   "display_name": "Python 3",
   "language": "python",
   "name": "python3"
  },
  "language_info": {
   "codemirror_mode": {
    "name": "ipython",
    "version": 3
   },
   "file_extension": ".py",
   "mimetype": "text/x-python",
   "name": "python",
   "nbconvert_exporter": "python",
   "pygments_lexer": "ipython3",
   "version": "3.7.2"
  }
 },
 "nbformat": 4,
 "nbformat_minor": 2
}
