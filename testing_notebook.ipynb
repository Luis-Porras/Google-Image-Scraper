{
 "cells": [
  {
   "cell_type": "code",
   "execution_count": 1,
   "metadata": {},
   "outputs": [],
   "source": [
    "from selenium.webdriver.common.action_chains import ActionChains\n",
    "from selenium.webdriver.common.keys import Keys\n",
    "from selenium import webdriver\n",
    "from selenium.webdriver.support.ui import WebDriverWait\n",
    "from math import ceil\n",
    "import os\n",
    "import base64\n",
    "import time \n",
    "import getpass\n",
    "import platform"
   ]
  },
  {
   "cell_type": "code",
   "execution_count": 2,
   "metadata": {},
   "outputs": [],
   "source": [
    "def search(driver,term):\n",
    "    \n",
    "    #Specify search term and sends a google query for the term\n",
    "    driver.get('https://google.com')\n",
    "    WebDriverWait(driver,1)\n",
    "    search_box = driver.find_element_by_class_name('gLFyf')\n",
    "    search_box.send_keys(term)\n",
    "    search_box.send_keys(Keys.ENTER)\n",
    "\n",
    "    #Finds the google \"Images\" box for the search term and clicks on it\n",
    "    google_image_box = driver.find_element_by_link_text('Images')\n",
    "    google_image_box.click()"
   ]
  },
  {
   "cell_type": "code",
   "execution_count": 7,
   "metadata": {},
   "outputs": [],
   "source": [
    "def create_folder():  \n",
    "    \n",
    "    #Attempts to create new folder in Downloads. \n",
    "    #If it already exists, user is asked if they would like to save their images to existing folder \n",
    "    #or make new folder\n",
    "    \n",
    "    folder_name =  input('What would you like to name your new folder of images? You\\'ll find this folder in your Downloads: ')\n",
    "    valid_folder_name = False\n",
    "    homedir = os.path.expanduser('~')\n",
    "    \n",
    "    while not valid_folder_name:\n",
    "        try:\n",
    "            if platform.system() == 'Darwin':\n",
    "                os.mkdir(f'{homedir}/Downloads/{folder_name}')\n",
    "            elif platform.system() == 'Windows':\n",
    "                os.mkdir(f'{homedir}\\Downloads\\\\{folder_name}')\n",
    "                \n",
    "            valid_folder_name = True\n",
    "            \n",
    "        except FileExistsError: \n",
    "            \n",
    "            folder_response = int(input(f'''The folder named \\'{folder_name}\\' already exists. Would you like to add your pictures to the existing folder, or save them to a new folder name? \\n Press 1 to save them to the existing folder. \n",
    "            \\n Press 2 to save them to a new folder \\n Response:  '''))\n",
    "            \n",
    "            if folder_response == 1:\n",
    "                print(f'New images will be downloaded to the existing \\'{folder_name}\\' folder')\n",
    "                return folder_name\n",
    "                \n",
    "            elif folder_response == 2:\n",
    "                folder_name =  input('''What would you like to name your new folder of images? \\n You\\'ll find this folder in your Downloads: ''')\n",
    "            \n",
    "            else:\n",
    "                print('Please type 1 or 2 as your response....')\n",
    "                time.sleep(1)\n",
    "                \n",
    "    return folder_name\n"
   ]
  },
  {
   "cell_type": "code",
   "execution_count": 4,
   "metadata": {},
   "outputs": [],
   "source": [
    "def load_images(driver, images_to_retrieve = 100):\n",
    "    \n",
    "    #function using javascript to scroll to the bottom of a page.\n",
    "    def scroll(driver):\n",
    "            driver.execute_script(\"window.scrollTo(0, document.body.scrollHeight);\")\n",
    "            time.sleep(2)\n",
    "            \n",
    "    #calculates necessary page scrolls to load the amount of images the user has asked for.\n",
    "    scroll_amount = ceil((images_to_retrieve/90))\n",
    "    \n",
    "    #begins scrolling, but also checks if the \"show more results\" button needs to be pressed to keep scrolling.\n",
    "    for i in range(scroll_amount):\n",
    "        try:\n",
    "            \n",
    "            driver.find_element_by_css_selector('input.mye4qd').click()\n",
    "            time.sleep(2)\n",
    "            scroll(driver)\n",
    "            time.sleep(2)    \n",
    "            \n",
    "        except:\n",
    "            \n",
    "            scroll(driver)\n",
    "            time.sleep(2)\n",
    "            \n",
    "        \n",
    "#Clicks on an image thumbnail and gets the uri of the newly expanded image. \n",
    "#The images returned from this function are base64 encoded images.\n",
    "def get_images(driver, images_to_retrieve):\n",
    "    \n",
    "    elements = driver.find_elements_by_class_name('rg_i')\n",
    "    images = []\n",
    "    \n",
    "    for i in elements[:images_to_retrieve+1]:\n",
    "        \n",
    "        try:\n",
    "            i.click()\n",
    "            time.sleep(2)\n",
    "            real_image = driver.find_element_by_class_name('n3VNCb')\n",
    "            if 'data:image' in real_image.get_attribute('src'):\n",
    "                images.append(real_image.get_attribute('src'))\n",
    "                time.sleep(1)\n",
    "        except ElementClickInterceptedException:\n",
    "            continue\n",
    "            \n",
    "    return images\n",
    "    \n",
    "    \n",
    "#Images must be decoded, and then can be saved as an image to a desired path               \n",
    "def decode_and_save(images,folder_name):\n",
    "    \n",
    "    homedir = os.path.expanduser('~')\n",
    "    \n",
    "    if platform.system() == 'Darwin':\n",
    "        download_path = homedir+'/Downloads/'+folder_name+'/image'\n",
    "    elif platform.system() == 'Windows':\n",
    "        download_path = homedir+'\\Downloads\\\\'+folder_name+'\\image'\n",
    "    \n",
    "    #Retrieves the base64 encoded picture and it's corresponding file extension(.png, .jpg, .gif, .tif, etc.)\n",
    "    for i in images: \n",
    "        head = i.split(',')[0]\n",
    "        data = i.split(',')[1]\n",
    "        file_type = head.split('/')[1].split(';')[0]\n",
    "        decoded = base64.b64decode(data)\n",
    "        \n",
    "        #writes each newly decoded picture to a sub-directory in the Downloads directory\n",
    "        with open(f'{download_path}{images.index(i)}.{file_type}', 'wb') as f:\n",
    "            f.write(decoded)         \n"
   ]
  },
  {
   "cell_type": "code",
   "execution_count": 5,
   "metadata": {},
   "outputs": [],
   "source": [
    "def scrape(driver_path):\n",
    "    search_term = input('What images would you like to search on Google? ')\n",
    "    image_amount= int(input('How many pictures would you like to download? '))\n",
    "    folder_name =  create_folder()\n",
    "    wd = webdriver.Chrome(driver_path)\n",
    "    \n",
    "    search(wd,search_term)\n",
    "    load_images(wd, image_amount)\n",
    "    images = get_images(wd,image_amount)\n",
    "    decode_and_save(images, folder_name)\n",
    "    wd.quit()"
   ]
  },
  {
   "cell_type": "code",
   "execution_count": 6,
   "metadata": {},
   "outputs": [
    {
     "name": "stdout",
     "output_type": "stream",
     "text": [
      "What images would you like to search on Google? cats\n",
      "How many pictures would you like to download? 4\n",
      "What would you like to name your new folder of images? You'll find this folder in your Downloads: cat_pics\n",
      "The folder named 'cat_pics' already exists. Would you like to add your pictures to the existing folder, or save them to a new folder name? \n",
      " Press 1 to save them to the existing folder. \n",
      "            \n",
      " Press 2 to save them to a new folder \n",
      " Response:  1\n",
      "New images will be downloaded to the existing 'cat_pics' folder\n"
     ]
    }
   ],
   "source": [
    "#specify location of webdriver \n",
    "#windows\n",
    "driver_path = 'C:\\\\Users\\\\Luis\\\\Downloads\\\\chromedriver.exe'\n",
    "\n",
    "#call function\n",
    "scrape(driver_path)"
   ]
  },
  {
   "cell_type": "code",
   "execution_count": null,
   "metadata": {},
   "outputs": [],
<<<<<<< HEAD
=======
   "source": [
    "os.path.expanduser('~')"
   ]
  },
  {
   "cell_type": "code",
   "execution_count": null,
   "metadata": {},
   "outputs": [],
>>>>>>> 9f2a6efc296b68f29ebd06a5e341365ec500e066
   "source": []
  }
 ],
 "metadata": {
  "kernelspec": {
   "display_name": "Python 3",
   "language": "python",
   "name": "python3"
  },
  "language_info": {
   "codemirror_mode": {
    "name": "ipython",
    "version": 3
   },
   "file_extension": ".py",
   "mimetype": "text/x-python",
   "name": "python",
   "nbconvert_exporter": "python",
   "pygments_lexer": "ipython3",
   "version": "3.7.6"
  }
 },
 "nbformat": 4,
 "nbformat_minor": 2
}
